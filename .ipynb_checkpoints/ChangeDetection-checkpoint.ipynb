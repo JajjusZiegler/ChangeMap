{
 "cells": [
  {
   "cell_type": "code",
   "execution_count": 1,
   "metadata": {},
   "outputs": [
    {
     "ename": "ImportError",
     "evalue": "DLL load failed while importing _vsiopener: The specified procedure could not be found.",
     "output_type": "error",
     "traceback": [
      "\u001b[1;31m---------------------------------------------------------------------------\u001b[0m",
      "\u001b[1;31mImportError\u001b[0m                               Traceback (most recent call last)",
      "Cell \u001b[1;32mIn[1], line 1\u001b[0m\n\u001b[1;32m----> 1\u001b[0m \u001b[38;5;28;01mimport\u001b[39;00m \u001b[38;5;21;01mrasterio\u001b[39;00m\n\u001b[0;32m      2\u001b[0m \u001b[38;5;28;01mimport\u001b[39;00m \u001b[38;5;21;01mnumpy\u001b[39;00m \u001b[38;5;28;01mas\u001b[39;00m \u001b[38;5;21;01mnp\u001b[39;00m\n\u001b[0;32m      3\u001b[0m \u001b[38;5;28;01mimport\u001b[39;00m \u001b[38;5;21;01mmatplotlib\u001b[39;00m\u001b[38;5;21;01m.\u001b[39;00m\u001b[38;5;21;01mpyplot\u001b[39;00m \u001b[38;5;28;01mas\u001b[39;00m \u001b[38;5;21;01mplt\u001b[39;00m\n",
      "File \u001b[1;32mc:\\Users\\admin\\anaconda3\\envs\\geo\\Lib\\site-packages\\rasterio\\__init__.py:27\u001b[0m\n\u001b[0;32m     25\u001b[0m \u001b[38;5;28;01mfrom\u001b[39;00m \u001b[38;5;21;01mrasterio\u001b[39;00m\u001b[38;5;21;01m.\u001b[39;00m\u001b[38;5;21;01m_base\u001b[39;00m \u001b[38;5;28;01mimport\u001b[39;00m DatasetBase\n\u001b[0;32m     26\u001b[0m \u001b[38;5;28;01mfrom\u001b[39;00m \u001b[38;5;21;01mrasterio\u001b[39;00m\u001b[38;5;21;01m.\u001b[39;00m\u001b[38;5;21;01m_io\u001b[39;00m \u001b[38;5;28;01mimport\u001b[39;00m Statistics\n\u001b[1;32m---> 27\u001b[0m \u001b[38;5;28;01mfrom\u001b[39;00m \u001b[38;5;21;01mrasterio\u001b[39;00m\u001b[38;5;21;01m.\u001b[39;00m\u001b[38;5;21;01m_vsiopener\u001b[39;00m \u001b[38;5;28;01mimport\u001b[39;00m _opener_registration\n\u001b[0;32m     28\u001b[0m \u001b[38;5;28;01mfrom\u001b[39;00m \u001b[38;5;21;01mrasterio\u001b[39;00m\u001b[38;5;21;01m.\u001b[39;00m\u001b[38;5;21;01m_show_versions\u001b[39;00m \u001b[38;5;28;01mimport\u001b[39;00m show_versions\n\u001b[0;32m     29\u001b[0m \u001b[38;5;28;01mfrom\u001b[39;00m \u001b[38;5;21;01mrasterio\u001b[39;00m\u001b[38;5;21;01m.\u001b[39;00m\u001b[38;5;21;01m_version\u001b[39;00m \u001b[38;5;28;01mimport\u001b[39;00m gdal_version, get_geos_version, get_proj_version\n",
      "\u001b[1;31mImportError\u001b[0m: DLL load failed while importing _vsiopener: The specified procedure could not be found."
     ]
    }
   ],
   "source": [
    "import rasterio\n",
    "import numpy as np\n",
    "import matplotlib.pyplot as plt\n",
    "from rasterio.plot import show\n",
    "import pandas as pd\n",
    "import sys\n"
   ]
  },
  {
   "cell_type": "code",
   "execution_count": 6,
   "metadata": {},
   "outputs": [
    {
     "name": "stdout",
     "output_type": "stream",
     "text": [
      "c:\\Users\\admin\\anaconda3\\envs\\geo\\python.exe\n"
     ]
    }
   ],
   "source": [
    "print(sys.executable)"
   ]
  },
  {
   "cell_type": "code",
   "execution_count": null,
   "metadata": {},
   "outputs": [],
   "source": [
    "# Band Information Table\n",
    "def display_band_info():\n",
    "    band_data = {\n",
    "        \"Band Number\": [\"B1\", \"B2\", \"B3\", \"B4\", \"B5\", \"B6\", \"B7\", \"B8\", \"B9\", \"B10\"],\n",
    "        \"Band Name\": [\"Coastal Blue\", \"Blue\", \"Green-531\", \"Green\", \"Red-650\", \"Red\", \"Red Edge-705\", \"Red Edge-717\", \"Red Edge-740\", \"NIR\"],\n",
    "        \"Wavelength (nm)\": [444, 475, 531, 560, 650, 668, 705, 717, 740, 842],\n",
    "        \"Bandwidth (nm)\": [28, 32, 14, 27, 16, 14, 10, 12, 18, 57]\n",
    "    }\n",
    "    band_table = pd.DataFrame(band_data)\n",
    "    return band_table\n",
    "\n",
    "display_band_info()"
   ]
  },
  {
   "cell_type": "code",
   "execution_count": null,
   "metadata": {},
   "outputs": [],
   "source": [
    "# Function to load a multiband raster file\n",
    "def load_raster(filepath):\n",
    "    with rasterio.open(filepath) as src:\n",
    "        bands = src.read()\n",
    "        profile = src.profile\n",
    "    print(\"Loaded bands in order:\")\n",
    "    for i, name in enumerate(display_band_info()[\"Band Name\"], start=1):\n",
    "        print(f\"Band {i}: {name}\")\n",
    "    return bands, profile\n",
    "\n",
    "# Function to check if values are reflectance values\n",
    "def check_reflectance(bands):\n",
    "    if np.max(bands) > 1.0:\n",
    "        print(\"Warning: Values exceed 1.0, they might not be reflectance values.\")\n",
    "    else:\n",
    "        print(\"Values appear to be reflectance values.\")\n",
    "\n",
    "# Function to calculate NDVI (Normalized Difference Vegetation Index)\n",
    "def calculate_ndvi(nir_band, red_band):\n",
    "    ndvi = (nir_band - red_band) / (nir_band + red_band + 1e-10)  # Avoid division by zero\n",
    "    return ndvi\n",
    "\n",
    "# Function to calculate PRI (Photochemical Reflectance Index)\n",
    "def calculate_pri(band531, band570):\n",
    "    pri = (band531 - band570) / (band531 + band570 + 1e-10)  # Avoid division by zero\n",
    "    return pri\n",
    "\n",
    "# Function to visualize a single-band raster\n",
    "def visualize_raster(data, title=\"Raster Image\", cmap=\"RdYlGn\"):\n",
    "    plt.figure(figsize=(10, 6))\n",
    "    plt.imshow(data, cmap=cmap)\n",
    "    plt.colorbar(label=\"Index Value\")\n",
    "    plt.title(title)\n",
    "    plt.axis(\"off\")\n",
    "    plt.show()\n"
   ]
  }
 ],
 "metadata": {
  "kernelspec": {
   "display_name": "geo",
   "language": "python",
   "name": "python3"
  },
  "language_info": {
   "codemirror_mode": {
    "name": "ipython",
    "version": 3
   },
   "file_extension": ".py",
   "mimetype": "text/x-python",
   "name": "python",
   "nbconvert_exporter": "python",
   "pygments_lexer": "ipython3",
   "version": "3.12.7"
  }
 },
 "nbformat": 4,
 "nbformat_minor": 2
}
